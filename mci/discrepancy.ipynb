{
 "cells": [
  {
   "cell_type": "code",
   "execution_count": 19,
   "id": "1eca1fdc-0069-4d44-a2d5-bcae454d3692",
   "metadata": {},
   "outputs": [],
   "source": [
    "import pandas as pd\n",
    "from sqlalchemy import create_engine"
   ]
  },
  {
   "cell_type": "code",
   "execution_count": 26,
   "id": "ba1e90c3-6323-48ab-b7da-bf6eac8ea2ce",
   "metadata": {},
   "outputs": [],
   "source": [
    "# Function to create a database connection\n",
    "db_params = {\n",
    "        'host':'127.0.0.1',\n",
    "        'port':3307,\n",
    "        'user':'root',\n",
    "        'password':'Pa$$word01',\n",
    "        'database':'sales'\n",
    "}\n",
    "\n",
    "# Create the SQLAlchemy engine\n",
    "engine = create_engine(f\"mysql+pymysql://{db_params['user']}:{db_params['password']}@{db_params['host']}:{db_params['port']}/{db_params['database']}\")\n",
    "\n",
    "# Function to get bank transactions and return them as a pandas DataFrame\n",
    "def get_bank_transactions():\n",
    "    bank_transactions_query = \"SELECT * FROM bank_transaction;\"\n",
    "    bank_transactions_df = pd.read_sql_query(bank_transactions_query, engine)\n",
    "    return bank_transactions_df\n",
    "\n",
    "# Function to get sales orders and return them as a pandas DataFrame\n",
    "def get_sales_stats():\n",
    "    sales_stats_query = \"SELECT * FROM sales_stats;\"\n",
    "    sales_stats_df = pd.read_sql_query(sales_stats_query, engine)\n",
    "    return sales_stats_df"
   ]
  },
  {
   "cell_type": "code",
   "execution_count": 28,
   "id": "eae86431-f582-470b-8aac-d56435fa8641",
   "metadata": {},
   "outputs": [],
   "source": [
    "bank_transactions = get_bank_transactions()\n",
    "sales_stats = get_sales_stats()"
   ]
  },
  {
   "cell_type": "code",
   "execution_count": 29,
   "id": "2d4de247-06f5-4326-aa08-bf5c27fc7c37",
   "metadata": {},
   "outputs": [
    {
     "name": "stdout",
     "output_type": "stream",
     "text": [
      "   transaction_id transaction_date  transaction_amount transaction_type  \\\n",
      "0               1       2023-11-01               150.0           Credit   \n",
      "1               2       2023-11-02               200.0            Debit   \n",
      "2               3       2023-11-03               100.0           Credit   \n",
      "\n",
      "  transaction_channel payment_method payment_reference  store_id  \n",
      "0              Online    Credit Card          TXN12345       1.0  \n",
      "1                Bank         PayPal          TXN12348       NaN  \n",
      "2              Online     Debit Card          TXN12347       1.0  \n",
      "   store_id        date   amount\n",
      "0         1  2023-01-01  10000.0\n",
      "1         1  2023-01-02  15000.0\n",
      "2         2  2023-01-01   7500.0\n",
      "3         2  2023-01-02   8500.0\n"
     ]
    }
   ],
   "source": [
    "print(bank_transactions.head())\n",
    "print(sales_stats.head())  "
   ]
  },
  {
   "cell_type": "code",
   "execution_count": 30,
   "id": "ea7bd94f-2ba8-4042-92d0-0215b5bed080",
   "metadata": {},
   "outputs": [
    {
     "name": "stdout",
     "output_type": "stream",
     "text": [
      "The amount 100.00 is randomly split into 84.97 and 15.03.\n"
     ]
    }
   ],
   "source": [
    "from decimal import Decimal, ROUND_HALF_UP\n",
    "import random\n",
    "\n",
    "def random_split_money(amount):\n",
    "    \"\"\"\n",
    "    Splits a monetary amount into two parts randomly.\n",
    "\n",
    "    :param amount: The total monetary amount as a string or a Decimal to split.\n",
    "    :return: A tuple containing the two random parts of the monetary amount.\n",
    "    \"\"\"\n",
    "    if not isinstance(amount, Decimal):\n",
    "        amount = Decimal(str(amount))\n",
    "    \n",
    "    # Generate a random ratio\n",
    "    ratio = Decimal(str(random.random()))\n",
    "\n",
    "    # Calculate the first part and round it to 2 decimal places\n",
    "    first_part = (amount * ratio).quantize(Decimal('0.01'), rounding=ROUND_HALF_UP)\n",
    "    # The second part is the remainder\n",
    "    second_part = amount - first_part\n",
    "\n",
    "    return first_part, second_part\n",
    "\n",
    "# Example usage:\n",
    "total_amount = '100.00'  # String representation of the total amount\n",
    "part1, part2 = random_split_money(total_amount)\n",
    "print(f\"The amount {total_amount} is randomly split into {part1} and {part2}.\")"
   ]
  },
  {
   "cell_type": "code",
   "execution_count": 40,
   "id": "0212f998-890d-4b7d-809f-3ad8dd564dfd",
   "metadata": {},
   "outputs": [
    {
     "name": "stdout",
     "output_type": "stream",
     "text": [
      "Two integers between 1 and 5 sorted are 2 and 2.\n"
     ]
    }
   ],
   "source": [
    "import random\n",
    "\n",
    "def generate_two_integers_sorted(start, end):\n",
    "    num1 = random.randint(start, end)\n",
    "    num2 = random.randint(start, end)\n",
    "    return sorted((num1, num2))\n",
    "\n",
    "# Example usage:\n",
    "start = 1\n",
    "end = 5\n",
    "smaller, larger = generate_two_integers_sorted(start, end)\n",
    "print(f\"Two integers between {start} and {end} sorted are {smaller} and {larger}.\")\n"
   ]
  },
  {
   "cell_type": "code",
   "execution_count": null,
   "id": "ab697f83-844e-4153-b4fe-1f0e69cb4f03",
   "metadata": {},
   "outputs": [],
   "source": [
    "def go_through_sales(df):\n",
    "    # This will store the result\n",
    "    transactions = []\n",
    "\n",
    "    for index, row in df.iterrows():\n",
    "        # Extract the year (or date) and apply the function\n",
    "        sale_date = row['date']\n",
    "        amount = row['amount']\n",
    "        smaller, larger = generate_two_integers_sorted(1, 5)\n",
    "        first_transaction_date = sale_date + smaller\n",
    "        second_transaction_date = sale_date + larger\n",
    "\n",
    "        part1, part2 = random_split_money(amount)\n",
    "        \n",
    "        transactions.append(first_transaction_date, part1))\n",
    "        transactions.append(second_transaction_date, part2))\n",
    "\n",
    "    # Return result as a DataFrame\n",
    "    transactions_grouped = transactions.groupby('date')\n",
    "    return transactions_grouped\n",
    "\n",
    "transactions_grouped = go_through_sales(sales_stats)\n",
    "print(transactions_grouped)"
   ]
  },
  {
   "cell_type": "code",
   "execution_count": null,
   "id": "fbb59aa5-f7d1-4d9a-9a43-eed0970109e7",
   "metadata": {},
   "outputs": [],
   "source": []
  }
 ],
 "metadata": {
  "kernelspec": {
   "display_name": "Python 3 (ipykernel)",
   "language": "python",
   "name": "python3"
  },
  "language_info": {
   "codemirror_mode": {
    "name": "ipython",
    "version": 3
   },
   "file_extension": ".py",
   "mimetype": "text/x-python",
   "name": "python",
   "nbconvert_exporter": "python",
   "pygments_lexer": "ipython3",
   "version": "3.10.12"
  }
 },
 "nbformat": 4,
 "nbformat_minor": 5
}
