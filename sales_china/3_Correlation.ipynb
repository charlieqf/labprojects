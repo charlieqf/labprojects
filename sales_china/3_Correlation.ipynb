{
 "cells": [
  {
   "cell_type": "code",
   "execution_count": 1,
   "id": "4685e611-142b-458e-bf08-cf0bff62a898",
   "metadata": {},
   "outputs": [],
   "source": [
    "from mpl_toolkits.mplot3d import Axes3D\n",
    "from sklearn.preprocessing import StandardScaler\n",
    "import matplotlib.pyplot as plt # plotting\n",
    "import numpy as np # linear algebra\n",
    "import os # accessing directory structure\n",
    "import pandas as pd # data processing, CSV file I/O (e.g. pd.read_csv)\n",
    "import seaborn as sns"
   ]
  },
  {
   "cell_type": "code",
   "execution_count": 3,
   "id": "76ae2f2f-cdb9-4e5f-96dc-e148f2c18ff2",
   "metadata": {},
   "outputs": [
    {
     "name": "stdout",
     "output_type": "stream",
     "text": [
      "There are 9800 rows and 15 columns\n"
     ]
    }
   ],
   "source": [
    "df = pd.read_csv('dataset/eComm.csv')\n",
    "df.dataframeName = 'superstore_sales'\n",
    "nRow, nCol = df.shape\n",
    "print(f'There are {nRow} rows and {nCol} columns')\n",
    "df2 = df.copy()\n"
   ]
  },
  {
   "cell_type": "code",
   "execution_count": 4,
   "id": "7214f2bf-fe5b-41fb-ab86-8bd31660f3bb",
   "metadata": {},
   "outputs": [],
   "source": [
    "# Step 1: Get the mean and standard deviation of the original 'Sales'\n",
    "original_mean = df['Sales'].mean()\n",
    "original_std = df['Sales'].std()\n",
    "\n",
    "# Step 2: Generate random noise\n",
    "# The scale of the noise can be adjusted to fine-tune the correlation\n",
    "noise = np.random.normal(0, original_std, size=len(df))\n",
    "\n",
    "# Step 3: Create the correlated 'Sales' data\n",
    "# This formula aims to create a new series that has a correlation of approximately 0.6 with the original\n",
    "df2['Sales'] = 0.6 * df['Sales'] + 0.4 * noise\n",
    "\n",
    "# Adjust the mean to match the original data (optional, for more realism)\n",
    "df2['Sales'] = df2['Sales'] - df2['Sales'].mean() + original_mean\n"
   ]
  },
  {
   "cell_type": "code",
   "execution_count": 5,
   "id": "ed23ade7-2ad2-4a57-b41a-a7b96c5497f9",
   "metadata": {},
   "outputs": [
    {
     "name": "stdout",
     "output_type": "stream",
     "text": [
      "Correlation between the two supermarkets' sales: 0.8261199729252359\n"
     ]
    }
   ],
   "source": [
    "# Calculate the correlation between 'Sales' of df and df_copy\n",
    "correlation = df['Sales'].corr(df2['Sales'])\n",
    "print(\"Correlation between the two supermarkets' sales:\", correlation)\n"
   ]
  },
  {
   "cell_type": "code",
   "execution_count": 6,
   "id": "98dd9dbe-e076-454a-8cb9-8e7743a087fb",
   "metadata": {},
   "outputs": [],
   "source": [
    "# Use only the first half of the data\n",
    "first_half_df = df.iloc[:len(df)//2]\n",
    "second_half_df = df.iloc[len(df)//2:]\n",
    "\n",
    "first_half_df2 = df2.iloc[:len(df)//2]\n",
    "second_half_df2 = df2.iloc[len(df)//2:]\n"
   ]
  },
  {
   "cell_type": "code",
   "execution_count": 7,
   "id": "7585d842-b8a8-4fc5-ab66-58e6af7ceadb",
   "metadata": {},
   "outputs": [
    {
     "name": "stdout",
     "output_type": "stream",
     "text": [
      "Correlation between the two supermarkets' sales (1st half): 0.8313118449156857\n",
      "Correlation between the two supermarkets' sales (2nd half): 0.8206932218851856\n"
     ]
    }
   ],
   "source": [
    "correlation = first_half_df['Sales'].corr(first_half_df2['Sales'])\n",
    "print(\"Correlation between the two supermarkets' sales (1st half):\", correlation)\n",
    "\n",
    "correlation = second_half_df['Sales'].corr(second_half_df2['Sales'])\n",
    "print(\"Correlation between the two supermarkets' sales (2nd half):\", correlation)\n"
   ]
  },
  {
   "cell_type": "code",
   "execution_count": 8,
   "id": "00ba3534-e16a-4b85-91d8-4c02568b62af",
   "metadata": {},
   "outputs": [],
   "source": [
    "# Consistency Across Time Periods: \n",
    "# The fact that the correlation remains high and relatively consistent across different time slices (first half vs. second half) implies a steady relationship between the sales figures of the two supermarkets over time. \n",
    "# This might indicate similar market dynamics, customer behaviors, or other external factors influencing both sets of sales data similarly."
   ]
  },
  {
   "cell_type": "code",
   "execution_count": 9,
   "id": "a77ef2de-de69-4a86-b3c4-b47e3ecd6be2",
   "metadata": {},
   "outputs": [],
   "source": [
    "df['Sales'] = df2['Sales']\n",
    "df.to_excel('dataset/reference_store.xlsx', index=False)"
   ]
  },
  {
   "cell_type": "code",
   "execution_count": null,
   "id": "85579e5b-7dc2-4d90-b919-81819cc2c662",
   "metadata": {},
   "outputs": [],
   "source": []
  }
 ],
 "metadata": {
  "kernelspec": {
   "display_name": "Python 3 (ipykernel)",
   "language": "python",
   "name": "python3"
  },
  "language_info": {
   "codemirror_mode": {
    "name": "ipython",
    "version": 3
   },
   "file_extension": ".py",
   "mimetype": "text/x-python",
   "name": "python",
   "nbconvert_exporter": "python",
   "pygments_lexer": "ipython3",
   "version": "3.10.12"
  }
 },
 "nbformat": 4,
 "nbformat_minor": 5
}
