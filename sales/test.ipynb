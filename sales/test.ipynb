{
 "cells": [
  {
   "cell_type": "code",
   "execution_count": 1,
   "id": "31b9a0a9-36b3-4993-aaed-360fd7c78e64",
   "metadata": {},
   "outputs": [],
   "source": [
    "import numpy as np\n",
    "import pandas as pd\n",
    "from statsmodels.tsa.stattools import adfuller\n",
    "\n",
    "# Creating a time series data with a trend\n",
    "np.random.seed(0)\n",
    "time_series = np.random.normal(0, 1, 100).cumsum() + np.arange(100)\n"
   ]
  },
  {
   "cell_type": "code",
   "execution_count": 2,
   "id": "0c9985be-e6dd-4f72-af29-21b0b87f14cf",
   "metadata": {},
   "outputs": [
    {
     "name": "stdout",
     "output_type": "stream",
     "text": [
      "ADF Statistic: -0.8736346017371566\n",
      "p-value: 0.7965308980301845\n",
      "Critical Value (1%): -3.498198082189098\n",
      "Critical Value (5%): -2.891208211860468\n",
      "Critical Value (10%): -2.5825959973472097\n"
     ]
    }
   ],
   "source": [
    "result = adfuller(time_series)\n",
    "\n",
    "# Extracting the p-value and test statistics\n",
    "adf_statistic = result[0]\n",
    "p_value = result[1]\n",
    "critical_values = result[4]\n",
    "\n",
    "print(\"ADF Statistic:\", adf_statistic)\n",
    "print(\"p-value:\", p_value)\n",
    "for key, value in critical_values.items():\n",
    "    print(f\"Critical Value ({key}): {value}\")\n"
   ]
  },
  {
   "cell_type": "code",
   "execution_count": 3,
   "id": "9ef77c38-02be-4f03-a404-48e5b970ae1c",
   "metadata": {},
   "outputs": [
    {
     "name": "stdout",
     "output_type": "stream",
     "text": [
      "There are 9800 rows and 18 columns\n"
     ]
    }
   ],
   "source": [
    "df = pd.read_csv('dataset/superstore_sales.csv')\n",
    "df.dataframeName = 'superstore_sales'\n",
    "nRow, nCol = df.shape\n",
    "print(f'There are {nRow} rows and {nCol} columns')"
   ]
  },
  {
   "cell_type": "code",
   "execution_count": 5,
   "id": "0a50bdcc-3805-4852-8d34-bb3ae72b6393",
   "metadata": {},
   "outputs": [
    {
     "name": "stdout",
     "output_type": "stream",
     "text": [
      "ADF Statistic: -8.6544402373203\n",
      "p-value: 5.013097828232759e-14\n",
      "Critical Value (1%): -3.435783891669927\n",
      "Critical Value (5%): -2.863939534252909\n",
      "Critical Value (10%): -2.56804755322338\n"
     ]
    }
   ],
   "source": [
    "sales_over_time = df.groupby('Order Date')['Sales'].sum()\n",
    "\n",
    "result = adfuller(sales_over_time)\n",
    "\n",
    "# Extracting the p-value and test statistics\n",
    "adf_statistic = result[0]\n",
    "p_value = result[1]\n",
    "critical_values = result[4]\n",
    "\n",
    "print(\"ADF Statistic:\", adf_statistic)\n",
    "print(\"p-value:\", p_value)\n",
    "for key, value in critical_values.items():\n",
    "    print(f\"Critical Value ({key}): {value}\")"
   ]
  },
  {
   "cell_type": "code",
   "execution_count": null,
   "id": "d35973f8-e143-4f88-bab4-f762a3aa529c",
   "metadata": {},
   "outputs": [],
   "source": []
  }
 ],
 "metadata": {
  "kernelspec": {
   "display_name": "Python 3 (ipykernel)",
   "language": "python",
   "name": "python3"
  },
  "language_info": {
   "codemirror_mode": {
    "name": "ipython",
    "version": 3
   },
   "file_extension": ".py",
   "mimetype": "text/x-python",
   "name": "python",
   "nbconvert_exporter": "python",
   "pygments_lexer": "ipython3",
   "version": "3.10.12"
  }
 },
 "nbformat": 4,
 "nbformat_minor": 5
}
