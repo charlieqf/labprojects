{
 "cells": [
  {
   "cell_type": "code",
   "execution_count": 1,
   "id": "d08e62f6-0b68-4c5d-9794-2cf70f702a2e",
   "metadata": {},
   "outputs": [],
   "source": [
    "import numpy as np # linear algebra\n",
    "import pandas as pd # data processing, CSV file I/O (e.g. pd.read_csv)\n",
    "import seaborn as sns\n",
    "import matplotlib.pyplot as plt"
   ]
  },
  {
   "cell_type": "code",
   "execution_count": 2,
   "id": "72789dfe-b92a-489e-94df-0f87e7c9b197",
   "metadata": {},
   "outputs": [],
   "source": [
    "df = pd.read_csv('dataset/superstore_sales.csv')"
   ]
  },
  {
   "cell_type": "code",
   "execution_count": 3,
   "id": "d2bd4dc1-6f83-4b8c-9ba2-dce2f12b02c8",
   "metadata": {},
   "outputs": [
    {
     "data": {
      "text/html": [
       "<div>\n",
       "<style scoped>\n",
       "    .dataframe tbody tr th:only-of-type {\n",
       "        vertical-align: middle;\n",
       "    }\n",
       "\n",
       "    .dataframe tbody tr th {\n",
       "        vertical-align: top;\n",
       "    }\n",
       "\n",
       "    .dataframe thead th {\n",
       "        text-align: right;\n",
       "    }\n",
       "</style>\n",
       "<table border=\"1\" class=\"dataframe\">\n",
       "  <thead>\n",
       "    <tr style=\"text-align: right;\">\n",
       "      <th></th>\n",
       "      <th>Row ID</th>\n",
       "      <th>Order ID</th>\n",
       "      <th>Order Date</th>\n",
       "      <th>Ship Date</th>\n",
       "      <th>Ship Mode</th>\n",
       "      <th>Customer ID</th>\n",
       "      <th>Customer Name</th>\n",
       "      <th>Segment</th>\n",
       "      <th>Country</th>\n",
       "      <th>City</th>\n",
       "      <th>State</th>\n",
       "      <th>Postal Code</th>\n",
       "      <th>Region</th>\n",
       "      <th>Product ID</th>\n",
       "      <th>Category</th>\n",
       "      <th>Sub-Category</th>\n",
       "      <th>Product Name</th>\n",
       "      <th>Sales</th>\n",
       "    </tr>\n",
       "  </thead>\n",
       "  <tbody>\n",
       "    <tr>\n",
       "      <th>0</th>\n",
       "      <td>1</td>\n",
       "      <td>CA-2017-152156</td>\n",
       "      <td>08/11/2017</td>\n",
       "      <td>11/11/2017</td>\n",
       "      <td>Second Class</td>\n",
       "      <td>CG-12520</td>\n",
       "      <td>Claire Gute</td>\n",
       "      <td>Consumer</td>\n",
       "      <td>United States</td>\n",
       "      <td>Henderson</td>\n",
       "      <td>Kentucky</td>\n",
       "      <td>42420.0</td>\n",
       "      <td>South</td>\n",
       "      <td>FUR-BO-10001798</td>\n",
       "      <td>Furniture</td>\n",
       "      <td>Bookcases</td>\n",
       "      <td>Bush Somerset Collection Bookcase</td>\n",
       "      <td>261.9600</td>\n",
       "    </tr>\n",
       "    <tr>\n",
       "      <th>1</th>\n",
       "      <td>2</td>\n",
       "      <td>CA-2017-152156</td>\n",
       "      <td>08/11/2017</td>\n",
       "      <td>11/11/2017</td>\n",
       "      <td>Second Class</td>\n",
       "      <td>CG-12520</td>\n",
       "      <td>Claire Gute</td>\n",
       "      <td>Consumer</td>\n",
       "      <td>United States</td>\n",
       "      <td>Henderson</td>\n",
       "      <td>Kentucky</td>\n",
       "      <td>42420.0</td>\n",
       "      <td>South</td>\n",
       "      <td>FUR-CH-10000454</td>\n",
       "      <td>Furniture</td>\n",
       "      <td>Chairs</td>\n",
       "      <td>Hon Deluxe Fabric Upholstered Stacking Chairs,...</td>\n",
       "      <td>731.9400</td>\n",
       "    </tr>\n",
       "    <tr>\n",
       "      <th>2</th>\n",
       "      <td>3</td>\n",
       "      <td>CA-2017-138688</td>\n",
       "      <td>12/06/2017</td>\n",
       "      <td>16/06/2017</td>\n",
       "      <td>Second Class</td>\n",
       "      <td>DV-13045</td>\n",
       "      <td>Darrin Van Huff</td>\n",
       "      <td>Corporate</td>\n",
       "      <td>United States</td>\n",
       "      <td>Los Angeles</td>\n",
       "      <td>California</td>\n",
       "      <td>90036.0</td>\n",
       "      <td>West</td>\n",
       "      <td>OFF-LA-10000240</td>\n",
       "      <td>Office Supplies</td>\n",
       "      <td>Labels</td>\n",
       "      <td>Self-Adhesive Address Labels for Typewriters b...</td>\n",
       "      <td>14.6200</td>\n",
       "    </tr>\n",
       "    <tr>\n",
       "      <th>3</th>\n",
       "      <td>4</td>\n",
       "      <td>US-2016-108966</td>\n",
       "      <td>11/10/2016</td>\n",
       "      <td>18/10/2016</td>\n",
       "      <td>Standard Class</td>\n",
       "      <td>SO-20335</td>\n",
       "      <td>Sean O'Donnell</td>\n",
       "      <td>Consumer</td>\n",
       "      <td>United States</td>\n",
       "      <td>Fort Lauderdale</td>\n",
       "      <td>Florida</td>\n",
       "      <td>33311.0</td>\n",
       "      <td>South</td>\n",
       "      <td>FUR-TA-10000577</td>\n",
       "      <td>Furniture</td>\n",
       "      <td>Tables</td>\n",
       "      <td>Bretford CR4500 Series Slim Rectangular Table</td>\n",
       "      <td>957.5775</td>\n",
       "    </tr>\n",
       "    <tr>\n",
       "      <th>4</th>\n",
       "      <td>5</td>\n",
       "      <td>US-2016-108966</td>\n",
       "      <td>11/10/2016</td>\n",
       "      <td>18/10/2016</td>\n",
       "      <td>Standard Class</td>\n",
       "      <td>SO-20335</td>\n",
       "      <td>Sean O'Donnell</td>\n",
       "      <td>Consumer</td>\n",
       "      <td>United States</td>\n",
       "      <td>Fort Lauderdale</td>\n",
       "      <td>Florida</td>\n",
       "      <td>33311.0</td>\n",
       "      <td>South</td>\n",
       "      <td>OFF-ST-10000760</td>\n",
       "      <td>Office Supplies</td>\n",
       "      <td>Storage</td>\n",
       "      <td>Eldon Fold 'N Roll Cart System</td>\n",
       "      <td>22.3680</td>\n",
       "    </tr>\n",
       "    <tr>\n",
       "      <th>5</th>\n",
       "      <td>6</td>\n",
       "      <td>CA-2015-115812</td>\n",
       "      <td>09/06/2015</td>\n",
       "      <td>14/06/2015</td>\n",
       "      <td>Standard Class</td>\n",
       "      <td>BH-11710</td>\n",
       "      <td>Brosina Hoffman</td>\n",
       "      <td>Consumer</td>\n",
       "      <td>United States</td>\n",
       "      <td>Los Angeles</td>\n",
       "      <td>California</td>\n",
       "      <td>90032.0</td>\n",
       "      <td>West</td>\n",
       "      <td>FUR-FU-10001487</td>\n",
       "      <td>Furniture</td>\n",
       "      <td>Furnishings</td>\n",
       "      <td>Eldon Expressions Wood and Plastic Desk Access...</td>\n",
       "      <td>48.8600</td>\n",
       "    </tr>\n",
       "    <tr>\n",
       "      <th>6</th>\n",
       "      <td>7</td>\n",
       "      <td>CA-2015-115812</td>\n",
       "      <td>09/06/2015</td>\n",
       "      <td>14/06/2015</td>\n",
       "      <td>Standard Class</td>\n",
       "      <td>BH-11710</td>\n",
       "      <td>Brosina Hoffman</td>\n",
       "      <td>Consumer</td>\n",
       "      <td>United States</td>\n",
       "      <td>Los Angeles</td>\n",
       "      <td>California</td>\n",
       "      <td>90032.0</td>\n",
       "      <td>West</td>\n",
       "      <td>OFF-AR-10002833</td>\n",
       "      <td>Office Supplies</td>\n",
       "      <td>Art</td>\n",
       "      <td>Newell 322</td>\n",
       "      <td>7.2800</td>\n",
       "    </tr>\n",
       "    <tr>\n",
       "      <th>7</th>\n",
       "      <td>8</td>\n",
       "      <td>CA-2015-115812</td>\n",
       "      <td>09/06/2015</td>\n",
       "      <td>14/06/2015</td>\n",
       "      <td>Standard Class</td>\n",
       "      <td>BH-11710</td>\n",
       "      <td>Brosina Hoffman</td>\n",
       "      <td>Consumer</td>\n",
       "      <td>United States</td>\n",
       "      <td>Los Angeles</td>\n",
       "      <td>California</td>\n",
       "      <td>90032.0</td>\n",
       "      <td>West</td>\n",
       "      <td>TEC-PH-10002275</td>\n",
       "      <td>Technology</td>\n",
       "      <td>Phones</td>\n",
       "      <td>Mitel 5320 IP Phone VoIP phone</td>\n",
       "      <td>907.1520</td>\n",
       "    </tr>\n",
       "    <tr>\n",
       "      <th>8</th>\n",
       "      <td>9</td>\n",
       "      <td>CA-2015-115812</td>\n",
       "      <td>09/06/2015</td>\n",
       "      <td>14/06/2015</td>\n",
       "      <td>Standard Class</td>\n",
       "      <td>BH-11710</td>\n",
       "      <td>Brosina Hoffman</td>\n",
       "      <td>Consumer</td>\n",
       "      <td>United States</td>\n",
       "      <td>Los Angeles</td>\n",
       "      <td>California</td>\n",
       "      <td>90032.0</td>\n",
       "      <td>West</td>\n",
       "      <td>OFF-BI-10003910</td>\n",
       "      <td>Office Supplies</td>\n",
       "      <td>Binders</td>\n",
       "      <td>DXL Angle-View Binders with Locking Rings by S...</td>\n",
       "      <td>18.5040</td>\n",
       "    </tr>\n",
       "    <tr>\n",
       "      <th>9</th>\n",
       "      <td>10</td>\n",
       "      <td>CA-2015-115812</td>\n",
       "      <td>09/06/2015</td>\n",
       "      <td>14/06/2015</td>\n",
       "      <td>Standard Class</td>\n",
       "      <td>BH-11710</td>\n",
       "      <td>Brosina Hoffman</td>\n",
       "      <td>Consumer</td>\n",
       "      <td>United States</td>\n",
       "      <td>Los Angeles</td>\n",
       "      <td>California</td>\n",
       "      <td>90032.0</td>\n",
       "      <td>West</td>\n",
       "      <td>OFF-AP-10002892</td>\n",
       "      <td>Office Supplies</td>\n",
       "      <td>Appliances</td>\n",
       "      <td>Belkin F5C206VTEL 6 Outlet Surge</td>\n",
       "      <td>114.9000</td>\n",
       "    </tr>\n",
       "  </tbody>\n",
       "</table>\n",
       "</div>"
      ],
      "text/plain": [
       "   Row ID        Order ID  Order Date   Ship Date       Ship Mode Customer ID  \\\n",
       "0       1  CA-2017-152156  08/11/2017  11/11/2017    Second Class    CG-12520   \n",
       "1       2  CA-2017-152156  08/11/2017  11/11/2017    Second Class    CG-12520   \n",
       "2       3  CA-2017-138688  12/06/2017  16/06/2017    Second Class    DV-13045   \n",
       "3       4  US-2016-108966  11/10/2016  18/10/2016  Standard Class    SO-20335   \n",
       "4       5  US-2016-108966  11/10/2016  18/10/2016  Standard Class    SO-20335   \n",
       "5       6  CA-2015-115812  09/06/2015  14/06/2015  Standard Class    BH-11710   \n",
       "6       7  CA-2015-115812  09/06/2015  14/06/2015  Standard Class    BH-11710   \n",
       "7       8  CA-2015-115812  09/06/2015  14/06/2015  Standard Class    BH-11710   \n",
       "8       9  CA-2015-115812  09/06/2015  14/06/2015  Standard Class    BH-11710   \n",
       "9      10  CA-2015-115812  09/06/2015  14/06/2015  Standard Class    BH-11710   \n",
       "\n",
       "     Customer Name    Segment        Country             City       State  \\\n",
       "0      Claire Gute   Consumer  United States        Henderson    Kentucky   \n",
       "1      Claire Gute   Consumer  United States        Henderson    Kentucky   \n",
       "2  Darrin Van Huff  Corporate  United States      Los Angeles  California   \n",
       "3   Sean O'Donnell   Consumer  United States  Fort Lauderdale     Florida   \n",
       "4   Sean O'Donnell   Consumer  United States  Fort Lauderdale     Florida   \n",
       "5  Brosina Hoffman   Consumer  United States      Los Angeles  California   \n",
       "6  Brosina Hoffman   Consumer  United States      Los Angeles  California   \n",
       "7  Brosina Hoffman   Consumer  United States      Los Angeles  California   \n",
       "8  Brosina Hoffman   Consumer  United States      Los Angeles  California   \n",
       "9  Brosina Hoffman   Consumer  United States      Los Angeles  California   \n",
       "\n",
       "   Postal Code Region       Product ID         Category Sub-Category  \\\n",
       "0      42420.0  South  FUR-BO-10001798        Furniture    Bookcases   \n",
       "1      42420.0  South  FUR-CH-10000454        Furniture       Chairs   \n",
       "2      90036.0   West  OFF-LA-10000240  Office Supplies       Labels   \n",
       "3      33311.0  South  FUR-TA-10000577        Furniture       Tables   \n",
       "4      33311.0  South  OFF-ST-10000760  Office Supplies      Storage   \n",
       "5      90032.0   West  FUR-FU-10001487        Furniture  Furnishings   \n",
       "6      90032.0   West  OFF-AR-10002833  Office Supplies          Art   \n",
       "7      90032.0   West  TEC-PH-10002275       Technology       Phones   \n",
       "8      90032.0   West  OFF-BI-10003910  Office Supplies      Binders   \n",
       "9      90032.0   West  OFF-AP-10002892  Office Supplies   Appliances   \n",
       "\n",
       "                                        Product Name     Sales  \n",
       "0                  Bush Somerset Collection Bookcase  261.9600  \n",
       "1  Hon Deluxe Fabric Upholstered Stacking Chairs,...  731.9400  \n",
       "2  Self-Adhesive Address Labels for Typewriters b...   14.6200  \n",
       "3      Bretford CR4500 Series Slim Rectangular Table  957.5775  \n",
       "4                     Eldon Fold 'N Roll Cart System   22.3680  \n",
       "5  Eldon Expressions Wood and Plastic Desk Access...   48.8600  \n",
       "6                                         Newell 322    7.2800  \n",
       "7                     Mitel 5320 IP Phone VoIP phone  907.1520  \n",
       "8  DXL Angle-View Binders with Locking Rings by S...   18.5040  \n",
       "9                   Belkin F5C206VTEL 6 Outlet Surge  114.9000  "
      ]
     },
     "execution_count": 3,
     "metadata": {},
     "output_type": "execute_result"
    }
   ],
   "source": [
    "df.head(10)"
   ]
  },
  {
   "cell_type": "code",
   "execution_count": 4,
   "id": "34d4ddde-b1f6-4ea5-a988-c876015e15f7",
   "metadata": {},
   "outputs": [],
   "source": [
    "def extract_leading_digit(num):\n",
    "    num = abs(num)  # Handle negative numbers\n",
    "    while num < 1 and num != 0:\n",
    "        num *= 10\n",
    "    return int(str(num)[0])\n",
    "\n",
    "df['leading_digit'] = df['Sales'].apply(extract_leading_digit)\n"
   ]
  },
  {
   "cell_type": "code",
   "execution_count": 5,
   "id": "5234af32-57f9-4b0e-9353-d14bb28296a1",
   "metadata": {},
   "outputs": [
    {
     "data": {
      "text/plain": [
       "0       2\n",
       "1       7\n",
       "2       1\n",
       "3       9\n",
       "4       2\n",
       "       ..\n",
       "9795    3\n",
       "9796    1\n",
       "9797    2\n",
       "9798    2\n",
       "9799    1\n",
       "Name: leading_digit, Length: 9800, dtype: int64"
      ]
     },
     "execution_count": 5,
     "metadata": {},
     "output_type": "execute_result"
    }
   ],
   "source": [
    "df['leading_digit']"
   ]
  },
  {
   "cell_type": "code",
   "execution_count": 6,
   "id": "83a0810d-7848-4af8-99a3-46dd154b8636",
   "metadata": {},
   "outputs": [
    {
     "data": {
      "image/png": "[encoded data removed]",
      "text/plain": [
       "<Figure size 1000x600 with 1 Axes>"
      ]
     },
     "metadata": {},
     "output_type": "display_data"
    }
   ],
   "source": [
    "all_digits = pd.Series(index=np.arange(1, 10), dtype=float)\n",
    "observed_frequencies = df['leading_digit'].value_counts(normalize=True)\n",
    "observed_frequencies = all_digits.combine_first(observed_frequencies).fillna(0)\n",
    "\n",
    "# Calculate expected frequencies using Benford's Law\n",
    "digits = np.arange(1, 10)\n",
    "expected_frequencies = np.log10(1 + 1/digits)\n",
    "\n",
    "# Plot observed vs expected frequencies\n",
    "plt.figure(figsize=(10, 6))\n",
    "plt.bar(digits - 0.15, observed_frequencies, width=0.3, label='Observed')\n",
    "plt.bar(digits + 0.15, expected_frequencies, width=0.3, label='Benford')\n",
    "plt.xticks(digits)\n",
    "plt.xlabel('Leading Digit')\n",
    "plt.ylabel('Frequency')\n",
    "plt.legend()\n",
    "plt.title('Benford’s Law Analysis')\n",
    "plt.show()"
   ]
  },
  {
   "cell_type": "code",
   "execution_count": 17,
   "id": "56bb018e-694d-4b3b-a01b-84ded261ab8f",
   "metadata": {},
   "outputs": [],
   "source": [
    "import pandas as pd\n",
    "import numpy as np\n",
    "import os\n",
    "from openpyxl import load_workbook\n",
    "\n",
    "# Assuming observed_frequencies and expected_frequencies are already defined\n",
    "\n",
    "# Combine the frequencies into a DataFrame\n",
    "data = pd.DataFrame({\n",
    "    'Digit': np.arange(1, 10),\n",
    "    'Observed Frequency': observed_frequencies,\n",
    "    'Expected Frequency': expected_frequencies\n",
    "})\n",
    "\n",
    "# Path to your Excel file\n",
    "file_path = 'result.xlsx'\n",
    "\n",
    "# Check if the file exists\n",
    "if os.path.exists(file_path):\n",
    "    # Load the existing Excel file\n",
    "    book = load_workbook(file_path)\n",
    "    \n",
    "    # Check if 'Benford' sheet exists\n",
    "    writer = pd.ExcelWriter(file_path, engine='openpyxl')\n",
    "    writer.book = book\n",
    "    writer.sheets = {ws.title: ws for ws in book.worksheets}\n",
    "\n",
    "    if 'Benford' in writer.sheets:\n",
    "        # If the 'Benford' sheet exists, delete it\n",
    "        del book['Benford']\n",
    "\n",
    "else:\n",
    "    # Create a new Excel writer if the file does not exist\n",
    "    writer = pd.ExcelWriter(file_path, engine='openpyxl')\n",
    "\n",
    "# Write the DataFrame to the 'Benford' sheet\n",
    "data.to_excel(writer, sheet_name='Benford', index=False)\n",
    "\n",
    "# Close the writer to save the file\n",
    "writer.close()\n"
   ]
  },
  {
   "cell_type": "code",
   "execution_count": 10,
   "id": "14124bbc-ed48-45f1-9f9f-58bff1c75741",
   "metadata": {},
   "outputs": [
    {
     "data": {
      "text/plain": [
       "array([0.30103   , 0.17609126, 0.12493874, 0.09691001, 0.07918125,\n",
       "       0.06694679, 0.05799195, 0.05115252, 0.04575749])"
      ]
     },
     "execution_count": 10,
     "metadata": {},
     "output_type": "execute_result"
    }
   ],
   "source": [
    "expected_frequencies"
   ]
  },
  {
   "cell_type": "code",
   "execution_count": 12,
   "id": "7f9cf52d-dd44-4532-a25a-dfeee6e9f19d",
   "metadata": {},
   "outputs": [
    {
     "name": "stdout",
     "output_type": "stream",
     "text": [
      "0.0009211270935466653 0.9999999999999981\n"
     ]
    }
   ],
   "source": [
    "from scipy.stats import chisquare\n",
    "chi_statistic, p_value = chisquare(observed_frequencies, f_exp=expected_frequencies)\n",
    "print(chi_statistic, p_value)"
   ]
  },
  {
   "cell_type": "code",
   "execution_count": 16,
   "id": "f3174a8f-2c07-4500-a477-949edbd1706a",
   "metadata": {},
   "outputs": [],
   "source": [
    "# Chi-Square Test indicate that the observed frequencies of the leading digits in your data very closely match what is expected under Benford's Law. Here's a breakdown of the results:\n",
    "\n",
    "# Chi-Square Statistic: \n",
    "# 0.0009211270935466653\n",
    "# 0.0009211270935466653\n",
    "# p-value: \n",
    "# 0.9999999999999981\n",
    "# 0.9999999999999981\n",
    "# Interpretation\n",
    "# Chi-Square Statistic: This is extremely low, suggesting that there is very little difference between the observed frequencies and the frequencies predicted by Benford's Law.\n",
    "\n",
    "# p-value: A p-value this high (close to 1) indicates that the differences between your observed data and the expected Benford's Law distribution are not statistically significant. In other words, your data fits Benford's Law very well."
   ]
  },
  {
   "cell_type": "code",
   "execution_count": 13,
   "id": "8229fd12-7790-43de-96f1-b1ac5aceaeee",
   "metadata": {},
   "outputs": [
    {
     "name": "stdout",
     "output_type": "stream",
     "text": [
      "0.003177622797444411\n"
     ]
    }
   ],
   "source": [
    "MAD = np.mean(np.abs(observed_frequencies - expected_frequencies))\n",
    "print(MAD)"
   ]
  },
  {
   "cell_type": "code",
   "execution_count": null,
   "id": "5bacd4ad-b8b3-426b-8e3b-6d0df733f199",
   "metadata": {},
   "outputs": [],
   "source": [
    "# MAD Value: \n",
    "# 0.003177622797444411\n",
    "# The MAD measures the average magnitude of deviations between the observed frequencies and the expected frequencies as per Benford's Law.\n",
    "# A smaller MAD value indicates a closer fit to Benford's Law."
   ]
  },
  {
   "cell_type": "code",
   "execution_count": 11,
   "id": "bbd6e767-e97f-4a9e-96e5-1e546f99e4f0",
   "metadata": {},
   "outputs": [
    {
     "name": "stdout",
     "output_type": "stream",
     "text": [
      "1    0.308469\n",
      "2    0.172347\n",
      "3    0.129184\n",
      "4    0.095000\n",
      "5    0.075306\n",
      "6    0.067959\n",
      "7    0.055510\n",
      "8    0.052755\n",
      "9    0.043469\n",
      "dtype: float64\n"
     ]
    }
   ],
   "source": [
    "MAD = np.mean(np.abs(observed_frequencies - expected_frequencies))\n"
   ]
  },
  {
   "cell_type": "code",
   "execution_count": 14,
   "id": "5bc264f5-2628-4f98-80b5-ed5be6f9c2a2",
   "metadata": {},
   "outputs": [
    {
     "name": "stdout",
     "output_type": "stream",
     "text": [
      "0.1111111111111111 1.0\n"
     ]
    }
   ],
   "source": [
    "from scipy.stats import ks_2samp\n",
    "D_statistic, p_value = ks_2samp(observed_frequencies.cumsum(), expected_frequencies.cumsum())\n",
    "print(D_statistic, p_value)"
   ]
  },
  {
   "cell_type": "code",
   "execution_count": null,
   "id": "dba938a7-d595-43f4-9ce0-4b28bd7452b5",
   "metadata": {},
   "outputs": [],
   "source": [
    "# D-statistic: This value represents the maximum distance between the cumulative distribution of your observed data and the expected distribution under Benford's Law. A smaller D-statistic indicates a closer fit. The value of approximately \n",
    "# 0.11 suggests a relatively small maximum deviation between the observed and expected distributions.\n",
    "\n",
    "# p-value: The p-value of 1.0 is extremely high, suggesting that the observed cumulative distribution does not significantly differ from what would be expected under Benford's Law. In simpler terms, the observed data aligns well with the expected Benford distribution."
   ]
  },
  {
   "cell_type": "code",
   "execution_count": 17,
   "id": "fe80fec2-5138-48cb-94e3-925c5b7717e1",
   "metadata": {},
   "outputs": [
    {
     "data": {
      "image/png": "[encoded data removed]",
      "text/plain": [
       "<Figure size 1000x600 with 1 Axes>"
      ]
     },
     "metadata": {},
     "output_type": "display_data"
    }
   ],
   "source": [
    "import numpy as np\n",
    "import pandas as pd\n",
    "import matplotlib.pyplot as plt\n",
    "\n",
    "# Generate 10000 random numbers\n",
    "random_numbers = np.random.uniform(low=1, high=10000, size=10000)\n",
    "\n",
    "# Function to extract the leading digit\n",
    "def leading_digit(num):\n",
    "    while num >= 10 or num <= -10:\n",
    "        num /= 10\n",
    "    return int(abs(num))\n",
    "\n",
    "# Extract leading digits\n",
    "leading_digits = [leading_digit(num) for num in random_numbers]\n",
    "\n",
    "# Convert to DataFrame for analysis\n",
    "df = pd.DataFrame({'leading_digit': leading_digits})\n",
    "\n",
    "# Calculate observed frequencies\n",
    "all_digits = pd.Series(index=np.arange(1, 10), dtype=float)\n",
    "observed_frequencies = df['leading_digit'].value_counts(normalize=True)\n",
    "observed_frequencies = all_digits.combine_first(observed_frequencies).fillna(0)\n",
    "\n",
    "# Calculate expected frequencies using Benford's Law\n",
    "digits = np.arange(1, 10)\n",
    "expected_frequencies = np.log10(1 + 1/digits)\n",
    "\n",
    "# Plot observed vs expected frequencies\n",
    "plt.figure(figsize=(10, 6))\n",
    "plt.bar(digits - 0.15, observed_frequencies, width=0.3, label='Observed')\n",
    "plt.bar(digits + 0.15, expected_frequencies, width=0.3, label='Benford')\n",
    "plt.xticks(digits)\n",
    "plt.xlabel('Leading Digit')\n",
    "plt.ylabel('Frequency')\n",
    "plt.legend()\n",
    "plt.title('Benford’s Law Analysis on Random Numbers')\n",
    "plt.show()\n"
   ]
  },
  {
   "cell_type": "code",
   "execution_count": null,
   "id": "4aa55a3d-89b6-4eda-95f3-d15b51a00dae",
   "metadata": {},
   "outputs": [],
   "source": []
  }
 ],
 "metadata": {
  "kernelspec": {
   "display_name": "Python 3 (ipykernel)",
   "language": "python",
   "name": "python3"
  },
  "language_info": {
   "codemirror_mode": {
    "name": "ipython",
    "version": 3
   },
   "file_extension": ".py",
   "mimetype": "text/x-python",
   "name": "python",
   "nbconvert_exporter": "python",
   "pygments_lexer": "ipython3",
   "version": "3.10.12"
  }
 },
 "nbformat": 4,
 "nbformat_minor": 5
}
